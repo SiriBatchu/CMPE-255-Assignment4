
{
 "cells": [
  {
   "cell_type": "markdown",
   "metadata": {},
   "source": [
    "# Sentiment Analysis Using CRISP-DM Process"
   ]
  },
  {
   "cell_type": "markdown",
   "metadata": {},
   "source": [
    "### 1. **Business Understanding**\n",
    "The goal of this analysis is to classify tweets into three categories based on their sentiment: **Positive**, **Negative**, or **Neutral**.\n",
    "We will use a dataset of tweets for sentiment analysis, following the CRISP-DM process: **Business Understanding, Data Understanding, Data Preparation, Modeling, Evaluation, and Deployment.**"
   ]
  },
  {
   "cell_type": "markdown",
   "metadata": {},
   "source": [
    "### 2. **Data Understanding**\n",
    "We'll begin by loading and exploring the dataset to understand its structure and content."
   ]
  },
  {
   "cell_type": "code",
   "execution_count": null,
   "metadata": {},
   "outputs": [],
   "source": [
    "# Import necessary libraries\n",
    "import pandas as pd\n",
    "\n",
    "# Load the dataset\n",
    "df = pd.read_csv('/content/Twitter_Data.csv')\n",
    "\n",
    "# Display the first few rows of the dataset\n",
    "df.head()"
   ]
  },
  {
   "cell_type": "markdown",
   "metadata": {},
   "source": [
    "### 3. **Data Preparation**\n",
    "Next, we will clean the text data. This involves removing unwanted characters, converting text to lowercase, and handling missing values if any."
   ]
  },
  {
   "cell_type": "code",
   "execution_count": null,
   "metadata": {},
   "outputs": [],
   "source": [
    "# Clean the data\n",
    "import re\n",
    "import numpy as np\n",
    "\n",
    "# Function to clean tweet text\n",
    "def clean_text(text):\n",
    "    text = re.sub(r'http\\S+', '', text)  # Remove URLs\n",
    "    text = re.sub(r'[^A-Za-z0-9\\s]', '', text)  # Remove special characters\n",
    "    text = text.lower()  # Convert text to lowercase\n",
    "    return text\n",
    "\n",
    "# Apply the cleaning function to the 'text' column\n",
    "df['cleaned_text'] = df['text'].astype(str).apply(clean_text)\n",
    "\n",
    "# Drop rows with missing values in the 'cleaned_text' column if any\n",
    "df.dropna(subset=['cleaned_text'], inplace=True)\n",
    "\n",
    "# Display the cleaned dataset\n",
    "df[['cleaned_text']].head()"
   ]
  },
  {
   "cell_type": "markdown",
   "metadata": {},
   "source": [
    "### 4. **Modeling**\n",
    "We will use the `TextBlob` library to calculate the polarity of each tweet. Polarity scores range from -1 (most negative) to 1 (most positive). We'll classify the polarity into three categories: Positive, Negative, and Neutral."
   ]
  },
  {
   "cell_type": "code",
   "execution_count": null,
   "metadata": {},
   "outputs": [],
   "source": [
    "# Import the TextBlob library for sentiment analysis\n",
    "from textblob import TextBlob\n",
    "\n",
    "# Function to classify sentiment\n",
    "def get_sentiment(text):\n",
    "    blob = TextBlob(text)\n",
    "    polarity = blob.sentiment.polarity\n",
    "    \n",
    "    if polarity > 0:\n",
    "        return 'Positive'\n",
    "    elif polarity < 0:\n",
    "        return 'Negative'\n",
    "    else:\n",
    "        return 'Neutral'\n",
    "\n",
    "# Apply the function to classify sentiment for each tweet\n",
    "df['sentiment'] = df['cleaned_text'].apply(get_sentiment)\n",
    "\n",
    "# Display the first few rows with sentiment labels\n",
    "df[['cleaned_text', 'sentiment']].head()"
   ]
  },
  {
   "cell_type": "markdown",
   "metadata": {},
   "source": [
    "### 5. **Evaluation**\n",
    "We will now check the distribution of sentiments in the dataset and evaluate how well the TextBlob approach works by manually inspecting a few results."
   ]
  },
  {
   "cell_type": "code",
   "execution_count": null,
   "metadata": {},
   "outputs": [],
   "source": [
    "# Check the distribution of sentiments\n",
    "sentiment_counts = df['sentiment'].value_counts()\n",
    "sentiment_counts"
   ]
  },
  {
   "cell_type": "markdown",
   "metadata": {},
   "source": [
    "### 6. **Deployment**\n",
    "In a real-world scenario, this phase involves deploying the model to a production environment. For now, we'll focus on saving the results to a CSV file for further analysis."
   ]
  },
  {
   "cell_type": "code",
   "execution_count": null,
   "metadata": {},
   "outputs": [],
   "source": [
    "# Save the sentiment analysis results to a CSV file\n",
    "df.to_csv('/content/sentiment_analysis_results.csv', index=False)\n",
    "\n",
    "# Display a success message\n",
    "print(\"Sentiment analysis results saved to sentiment_analysis_results.csv\")"
   ]
  }
 ],
 "metadata": {
  "kernelspec": {
   "display_name": "Python 3",
   "language": "python",
   "name": "python3"
  },
  "language_info": {
   "codemirror_mode": {
    "name": "ipython",
    "version": 3
   },
   "file_extension": ".py",
   "mimetype": "text/x-python",
   "name": "python",
   "nbconvert_exporter": "python",
   "version": "3.7.12"
  }
 },
 "nbformat": 4,
 "nbformat_minor": 4
}
